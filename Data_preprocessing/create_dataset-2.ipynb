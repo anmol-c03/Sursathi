{
 "cells": [
  {
   "cell_type": "markdown",
   "metadata": {},
   "source": [
    "## .npy to .npz"
   ]
  },
  {
   "cell_type": "code",
   "execution_count": 1,
   "metadata": {},
   "outputs": [],
   "source": [
    "import numpy as np\n",
    "import os\n",
    "from PIL import Image\n",
    "import matplotlib.pyplot as plt\n",
    "import pandas as pd"
   ]
  },
  {
   "cell_type": "code",
   "execution_count": 3,
   "metadata": {},
   "outputs": [
    {
     "data": {
      "text/plain": [
       "59"
      ]
     },
     "execution_count": 3,
     "metadata": {},
     "output_type": "execute_result"
    }
   ],
   "source": [
    "image_folder = 'path_to_image_folder'\n",
    "\n",
    "image_paths = sorted([os.path.join(image_folder, filename) for filename in os.listdir(image_folder)])\n",
    "size=len(image_folder)\n"
   ]
  },
  {
   "cell_type": "code",
   "execution_count": 82,
   "metadata": {},
   "outputs": [],
   "source": [
    "\n",
    "annotation_folder = 'path to your annotations folder'\n",
    "vals = []\n",
    "for img_path in image_paths:\n",
    "    img_index = os.path.splitext(os.path.basename(img_path))[0]\n",
    "    filename = f'{img_index}_lnd.npy'\n",
    "    array = np.load(os.path.join(annotation_folder, filename))\n",
    "    vals.append(array)\n",
    "np.savez('train_set_npz/annotations/train_lnd.npz', lnd=vals)"
   ]
  },
  {
   "cell_type": "code",
   "execution_count": 76,
   "metadata": {},
   "outputs": [],
   "source": [
    "img = []\n",
    "for img_path in image_paths:\n",
    "        img.append(img_path[size:])\n",
    "np.savez('train_set_npz/annotations/train_imgpath.npz', path=img)"
   ]
  }
 ],
 "metadata": {
  "kernelspec": {
   "display_name": "Python 3",
   "language": "python",
   "name": "python3"
  },
  "language_info": {
   "codemirror_mode": {
    "name": "ipython",
    "version": 3
   },
   "file_extension": ".py",
   "mimetype": "text/x-python",
   "name": "python",
   "nbconvert_exporter": "python",
   "pygments_lexer": "ipython3",
   "version": "3.11.2"
  }
 },
 "nbformat": 4,
 "nbformat_minor": 2
}
